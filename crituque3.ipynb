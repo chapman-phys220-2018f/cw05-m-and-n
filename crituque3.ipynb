{
 "cells": [
  {
   "cell_type": "markdown",
   "metadata": {
    "collapsed": false
   },
   "source": [
    "$\\pi$"
   ]
  },
  {
   "cell_type": "markdown",
   "metadata": {
    "collapsed": false
   },
   "source": [
    "# Crituque on Monica's code\n",
    "## Natanael ALpay"
   ]
  },
  {
   "cell_type": "code",
   "execution_count": 1,
   "metadata": {
    "collapsed": false
   },
   "outputs": [
   ],
   "source": [
    " \n",
    "#!/usr/bin/env python3\n",
    "# -*- coding: utf-8 -*-\n",
    " \n",
    " \n",
    "def fibonacci(n):\n",
    "    \"\"\" returns the sequence of n fibonacci numbers\n",
    "    \"\"\"\n",
    "    firstfib = 1\n",
    "    secondfib = 1\n",
    "    temp = 0\n",
    "    seq = []\n",
    "    for i in range (n):\n",
    "        seq.append(firstfib)\n",
    "        temp = secondfib + firstfib\n",
    "        firstfib = secondfib\n",
    "        secondfib = temp\n",
    "    return seq\n",
    "    \n",
    " \n",
    " \n",
    " \n",
    " "
   ]
  },
  {
   "cell_type": "markdown",
   "metadata": {
    "collapsed": false
   },
   "source": [
    "This code does exactly what it was supposed to do, no crituques here."
   ]
  },
  {
   "cell_type": "markdown",
   "metadata": {
    "collapsed": false
   },
   "source": [
    "s it clear how the code is organized? Yes, the code is very orenized and the flow is easy to flow. the variables are well defined in the code to note make mess later. \n",
    "\n",
    "Is the code properly documented with both docstrings and supplementary comments according to industry standards? Yes\n",
    "\n",
    "Can you follow the algorithm of the code, i.e., what it is doing, and how? Does the code work? (Try cloning the respository and running it yourself to make sure it runs correctly.) Yes the code is very cleare and easy to follow\n",
    "\n",
    "Do the tests verify correct functionality? On a scale of 0-100, the reviewer should rate the work produced by the reviewee. As the reviewer writes this critique and evaluation into the Jupyter notebook, the reviewer should discuss these questions and any issues that arise with the reviewee. Yes the test run fine and get a score 99. "
   ]
  },
  {
   "cell_type": "code",
   "execution_count": 1,
   "metadata": {
    "collapsed": false
   },
   "outputs": [
    {
     "ename": "SyntaxError",
     "evalue": "invalid syntax (<ipython-input-1-b83d87bb923b>, line 3)",
     "output_type": "error",
     "traceback": [
      "\u001b[0;36m  File \u001b[0;32m\"<ipython-input-1-b83d87bb923b>\"\u001b[0;36m, line \u001b[0;32m3\u001b[0m\n\u001b[0;31m    if [ -e fibs.csv ]\u001b[0m\n\u001b[0m               ^\u001b[0m\n\u001b[0;31mSyntaxError\u001b[0m\u001b[0;31m:\u001b[0m invalid syntax\n"
     ]
    }
   ],
   "source": [
    "#!/bin/bash\n",
    "\n",
    "if [ -e fibs.csv ]\n",
    "then\n",
    "    if [ -e fibs.csv.bak ]\n",
    "    then\n",
    "        echo \"fibs.csv.bak already exists\"\n",
    "        exit 1\n",
    "    else\n",
    "        mv fibs.csv fibs.csv.bak\n",
    "        echo \"Backing up fibs.csv to fibs.csv.bak, overwriting fibs.csv\"\n",
    "    fi\n",
    "fi\n",
    "     \n",
    "for i in $(seq 10); do\n",
    "    ./fib.py ${i} >> fibs.csv\n",
    "done\n",
    "sed -i ':a;N;$!ba;s/\\n/, /g' fibs.csv"
   ]
  },
  {
   "cell_type": "markdown",
   "metadata": {
    "collapsed": false
   },
   "source": [
    "This code does exactly what it was supposed to do, it is written in a readble way with comments.\n",
    "this code is to run python code in terminal and it does it fine, my only comment is the naming which look a bit odd to me. \n",
    "It get a score 99."
   ]
  },
  {
   "cell_type": "code",
   "execution_count": 3,
   "metadata": {
    "collapsed": false
   },
   "outputs": [
    {
     "ename": "ModuleNotFoundError",
     "evalue": "No module named 'sequences'",
     "output_type": "error",
     "traceback": [
      "\u001b[0;31m---------------------------------------------------------------------------\u001b[0m",
      "\u001b[0;31mModuleNotFoundError\u001b[0m                       Traceback (most recent call last)",
      "\u001b[0;32m<ipython-input-3-12413e25272e>\u001b[0m in \u001b[0;36m<module>\u001b[0;34m()\u001b[0m\n\u001b[1;32m      1\u001b[0m \u001b[0;31m#!/usr/bin/env python3\u001b[0m\u001b[0;34m\u001b[0m\u001b[0;34m\u001b[0m\u001b[0m\n\u001b[1;32m      2\u001b[0m \u001b[0;34m\u001b[0m\u001b[0m\n\u001b[0;32m----> 3\u001b[0;31m \u001b[0;32mimport\u001b[0m \u001b[0msequences\u001b[0m \u001b[0;32mas\u001b[0m \u001b[0msq\u001b[0m\u001b[0;34m\u001b[0m\u001b[0m\n\u001b[0m\u001b[1;32m      4\u001b[0m \u001b[0;34m\u001b[0m\u001b[0m\n\u001b[1;32m      5\u001b[0m \u001b[0;32mdef\u001b[0m \u001b[0mmain\u001b[0m\u001b[0;34m(\u001b[0m\u001b[0margv\u001b[0m\u001b[0;34m)\u001b[0m\u001b[0;34m:\u001b[0m\u001b[0;34m\u001b[0m\u001b[0m\n",
      "\u001b[0;31mModuleNotFoundError\u001b[0m: No module named 'sequences'"
     ]
    }
   ],
   "source": [
    "#!/usr/bin/env python3\n",
    "\n",
    "import sequences as sq\n",
    "\n",
    "def main(argv):\n",
    "    print (sq.fibonacci(int(argv[1]))[int(int(argv[1])-1)])\n",
    "if __name__ == \"__main__\":\n",
    "    import sys\n",
    "    main(sys.argv)\n",
    "\n"
   ]
  },
  {
   "cell_type": "code",
   "execution_count": 0,
   "metadata": {
    "collapsed": false
   },
   "outputs": [
   ],
   "source": [
   ]
  }
 ],
 "metadata": {
  "kernelspec": {
   "display_name": "Python 3 (Anaconda 5)",
   "language": "python",
   "name": "anaconda5"
  },
  "language_info": {
   "codemirror_mode": {
    "name": "ipython",
    "version": 3
   },
   "file_extension": ".py",
   "mimetype": "text/x-python",
   "name": "python",
   "nbconvert_exporter": "python",
   "pygments_lexer": "ipython3",
   "version": "3.6.5"
  }
 },
 "nbformat": 4,
 "nbformat_minor": 0
}