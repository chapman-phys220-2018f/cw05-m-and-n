{
 "cells": [
  {
   "cell_type": "markdown",
   "metadata": {
    "collapsed": false
   },
   "source": [
    "$\\pi$"
   ]
  },
  {
   "cell_type": "markdown",
   "metadata": {
    "collapsed": false
   },
   "source": [
    "# Crituque on Monica's code and Enea\n",
    "## Natanael ALpay"
   ]
  },
  {
   "cell_type": "code",
   "execution_count": 0,
   "metadata": {
    "collapsed": false
   },
   "outputs": [
   ],
   "source": [
   ]
  },
  {
   "cell_type": "markdown",
   "metadata": {
    "collapsed": false
   },
   "source": [
    "# Monica's code"
   ]
  },
  {
   "cell_type": "code",
   "execution_count": 1,
   "metadata": {
    "collapsed": false
   },
   "outputs": [
   ],
   "source": [
    " \n",
    "#!/usr/bin/env python3\n",
    "# -*- coding: utf-8 -*-\n",
    " \n",
    " \n",
    "def fibonacci(n):\n",
    "    \"\"\" returns the sequence of n fibonacci numbers\n",
    "    \"\"\"\n",
    "    firstfib = 1\n",
    "    secondfib = 1\n",
    "    temp = 0\n",
    "    seq = []\n",
    "    for i in range (n):\n",
    "        seq.append(firstfib)\n",
    "        temp = secondfib + firstfib\n",
    "        firstfib = secondfib\n",
    "        secondfib = temp\n",
    "    return seq\n",
    "    \n",
    " \n",
    " \n",
    " \n",
    " "
   ]
  },
  {
   "cell_type": "markdown",
   "metadata": {
    "collapsed": false
   },
   "source": [
    "This code does exactly what it was supposed to do, no crituques here."
   ]
  },
  {
   "cell_type": "markdown",
   "metadata": {
    "collapsed": false
   },
   "source": [
    "s it clear how the code is organized? Yes, the code is very orenized and the flow is easy to follow. the variables are well defined in the code to note make mess later. \n",
    "\n",
    "Is the code properly documented with both docstrings and supplementary comments according to industry standards? Yes\n",
    "\n",
    "Can you follow the algorithm of the code, i.e., what it is doing, and how? Does the code work? (Try cloning the respository and running it yourself to make sure it runs correctly.)the code is runing, and easy to follow\n",
    "\n",
    "Do the tests verify correct functionality? On a scale of 0-100, the reviewer should rate the work produced by the reviewee. As the reviewer writes this critique and evaluation into the Jupyter notebook, the reviewer should discuss these questions and any issues that arise with the reviewee. Yes the test run fine and get a score 99. "
   ]
  },
  {
   "cell_type": "code",
   "execution_count": 1,
   "metadata": {
    "collapsed": false
   },
   "outputs": [
   ],
   "source": [
    "#!/bin/bash\n",
    "\n",
    "if [ -e fibs.csv ]\n",
    "then\n",
    "    if [ -e fibs.csv.bak ]\n",
    "    then\n",
    "        echo \"fibs.csv.bak already exists\"\n",
    "        exit 1\n",
    "    else\n",
    "        mv fibs.csv fibs.csv.bak\n",
    "        echo \"Backing up fibs.csv to fibs.csv.bak, overwriting fibs.csv\"\n",
    "    fi\n",
    "fi\n",
    "     \n",
    "for i in $(seq 10); do\n",
    "    ./fib.py ${i} >> fibs.csv\n",
    "done\n",
    "sed -i ':a;N;$!ba;s/\\n/, /g' fibs.csv"
   ]
  },
  {
   "cell_type": "markdown",
   "metadata": {
    "collapsed": false
   },
   "source": [
    "This code does exactly what it was supposed to do, it is written in a readble way with comments.\n",
    "this code is to run python code in terminal and it does it fine, my only comment is the naming which look a bit odd to me. \n",
    "It get a score 99."
   ]
  },
  {
   "cell_type": "code",
   "execution_count": 3,
   "metadata": {
    "collapsed": false
   },
   "outputs": [
    {
     "ename": "ModuleNotFoundError",
     "evalue": "No module named 'sequences'",
     "output_type": "error",
     "traceback": [
      "\u001b[0;31m---------------------------------------------------------------------------\u001b[0m",
      "\u001b[0;31mModuleNotFoundError\u001b[0m                       Traceback (most recent call last)",
      "\u001b[0;32m<ipython-input-3-12413e25272e>\u001b[0m in \u001b[0;36m<module>\u001b[0;34m()\u001b[0m\n\u001b[1;32m      1\u001b[0m \u001b[0;31m#!/usr/bin/env python3\u001b[0m\u001b[0;34m\u001b[0m\u001b[0;34m\u001b[0m\u001b[0m\n\u001b[1;32m      2\u001b[0m \u001b[0;34m\u001b[0m\u001b[0m\n\u001b[0;32m----> 3\u001b[0;31m \u001b[0;32mimport\u001b[0m \u001b[0msequences\u001b[0m \u001b[0;32mas\u001b[0m \u001b[0msq\u001b[0m\u001b[0;34m\u001b[0m\u001b[0m\n\u001b[0m\u001b[1;32m      4\u001b[0m \u001b[0;34m\u001b[0m\u001b[0m\n\u001b[1;32m      5\u001b[0m \u001b[0;32mdef\u001b[0m \u001b[0mmain\u001b[0m\u001b[0;34m(\u001b[0m\u001b[0margv\u001b[0m\u001b[0;34m)\u001b[0m\u001b[0;34m:\u001b[0m\u001b[0;34m\u001b[0m\u001b[0m\n",
      "\u001b[0;31mModuleNotFoundError\u001b[0m: No module named 'sequences'"
     ]
    }
   ],
   "source": [
    "#!/usr/bin/env python3\n",
    "\n",
    "import sequences as sq\n",
    "\n",
    "def main(argv):\n",
    "    print (sq.fibonacci(int(argv[1]))[int(int(argv[1])-1)])\n",
    "if __name__ == \"__main__\":\n",
    "    import sys\n",
    "    main(sys.argv)\n",
    "\n"
   ]
  },
  {
   "cell_type": "markdown",
   "metadata": {
    "collapsed": false
   },
   "source": [
    "# Enea's code"
   ]
  },
  {
   "cell_type": "code",
   "execution_count": 0,
   "metadata": {
    "collapsed": false
   },
   "outputs": [
   ],
   "source": [
    "#!/usr/bin/env python3\n",
    "# -*- coding: utf-8 -*-\n",
    "\n",
    "import fib\n",
    "import io\n",
    "import contextlib\n",
    "\n",
    "\"\"\"fib.py Test Module\n",
    "\n",
    "Verify correct functionality of Fibonacci module.\n",
    "\"\"\"\n",
    "\n",
    "def test_fib_eighth():\n",
    "    \"\"\"Test eight Fibonacci number.\n",
    "\n",
    "    Note that this test highlights the convenience of defining a\n",
    "    main function in a script file. Normally one would call this\n",
    "    script from the command line via bash. Here we call it directly\n",
    "    and redirect the output (stdout) to a string that we can test.\n",
    "    \"\"\"\n",
    "    # First redirect stdout to a string\n",
    "    out = io.StringIO()\n",
    "    with contextlib.redirect_stdout(out):\n",
    "        # then run the script with commandline argument \"6\"\n",
    "        # note that argument 0 is always the program name itself\n",
    "        fib.main([\"./fib.py\", \"6\"])\n",
    "    # then check printed output in string, stripping newline characters\n",
    "    assert out.getvalue().strip() == \"8\""
   ]
  },
  {
   "cell_type": "markdown",
   "metadata": {
    "collapsed": false
   },
   "source": [
    "this code has a lot of comments that help the reader to know what is going on. "
   ]
  },
  {
   "cell_type": "code",
   "execution_count": 0,
   "metadata": {
    "collapsed": false
   },
   "outputs": [
   ],
   "source": [
    "#!/usr/bin/env python3\n",
    "# -*- coding: utf-8 -*-\n",
    "###\n",
    "# Name: Enea Dodi Student ID: 2296306 Email: dodi@chapman.edu Course:\n",
    "# PHYS220/MATH220/CPSC220 Fall 2018 Assignment: CW03\n",
    "###\n",
    "\n",
    "\"\"\"This module reads the input of a number and returns an array of the first n\n",
    "Fibonacci numbers in a list \"\"\"\n",
    "\n",
    "# return a list containing the fibonacci series up to n.\n",
    "def fibonacci(n):\n",
    "    '''Fibonacci function\n",
    "    Args:\n",
    "        n: number of fibonacci numbers to calculate\n",
    "    Returns:\n",
    "        List containing first n fibonacci numbers\n",
    "    Raises:\n",
    "        Custom Exception 'Exception':\n",
    "            Thrown if n < 1\n",
    "            Instructs user to enter value larger than 0\n",
    "        TypeError:\n",
    "            Thrown by non-integer value of n\n",
    "    '''\n",
    "    if n < 1:\n",
    "        raise Exception('Please enter a value larger than 0')\n",
    "    f = fib_gen()\n",
    "    result = [next(f) for _ in range(n)]\n",
    "    return result\n",
    "\n",
    "def fib_gen():\n",
    "    x = 0\n",
    "    y = 1\n",
    "    z = 1\n",
    "    while True:"
   ]
  },
  {
   "cell_type": "markdown",
   "metadata": {
    "collapsed": false
   },
   "source": [
    "is it clear how the code is organized? Yes, the code is very orenized and the flow is easy to follow. the variables are well defined in the code to note make mess later. \n",
    "\n",
    "Is the code properly documented with both docstrings and supplementary comments according to industry standards? Yes\n",
    "\n",
    "Can you follow the algorithm of the code, i.e., what it is doing, and how? Does the code work? (Try cloning the respository and running it yourself to make sure it runs correctly.) Yes the code is very cleare and easy to follow, the code runs fine.\n",
    "\n",
    "Do the tests verify correct functionality? On a scale of 0-100, the reviewer should rate the work produced by the reviewee. As the reviewer writes this critique and evaluation into the Jupyter notebook, the reviewer should discuss these questions and any issues that arise with the reviewee. Yes the test run fine and get a score 98. "
   ]
  }
 ],
 "metadata": {
  "kernelspec": {
   "display_name": "Python 3 (Anaconda 5)",
   "language": "python",
   "name": "anaconda5"
  },
  "language_info": {
   "codemirror_mode": {
    "name": "ipython",
    "version": 3
   },
   "file_extension": ".py",
   "mimetype": "text/x-python",
   "name": "python",
   "nbconvert_exporter": "python",
   "pygments_lexer": "ipython3",
   "version": "3.6.5"
  }
 },
 "nbformat": 4,
 "nbformat_minor": 0
}