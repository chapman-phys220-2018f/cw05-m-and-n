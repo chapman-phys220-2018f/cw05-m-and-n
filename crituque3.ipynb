{
 "cells": [
  {
   "cell_type": "markdown",
   "metadata": {
    "collapsed": false
   },
   "source": [
    "$\\pi$"
   ]
  },
  {
   "cell_type": "markdown",
   "metadata": {
    "collapsed": false
   },
   "source": [
    "# Crituque on Monica's code\n",
    "## Natanael ALpay"
   ]
  },
  {
   "cell_type": "code",
   "execution_count": 1,
   "metadata": {
    "collapsed": false
   },
   "outputs": [
   ],
   "source": [
    " \n",
    "#!/usr/bin/env python3\n",
    "# -*- coding: utf-8 -*-\n",
    " \n",
    " \n",
    "def fibonacci(n):\n",
    "    \"\"\" returns the sequence of n fibonacci numbers\n",
    "    \"\"\"\n",
    "    firstfib = 1\n",
    "    secondfib = 1\n",
    "    temp = 0\n",
    "    seq = []\n",
    "    for i in range (n):\n",
    "        seq.append(firstfib)\n",
    "        temp = secondfib + firstfib\n",
    "        firstfib = secondfib\n",
    "        secondfib = temp\n",
    "    return seq\n",
    "    \n",
    " \n",
    " \n",
    " \n",
    " "
   ]
  },
  {
   "cell_type": "markdown",
   "metadata": {
    "collapsed": false
   },
   "source": [
    "This code does exactly what it was supposed to do, no crituques here."
   ]
  },
  {
   "cell_type": "markdown",
   "metadata": {
    "collapsed": false
   },
   "source": [
    "s it clear how the code is organized? Yes, the code is very orenized and the flow is easy to flow. the variables are well defined in the code to note make mess later. \n",
    "\n",
    "Is the code properly documented with both docstrings and supplementary comments according to industry standards? Yes\n",
    "\n",
    "Can you follow the algorithm of the code, i.e., what it is doing, and how? Does the code work? (Try cloning the respository and running it yourself to make sure it runs correctly.) Yes the code is very cleare and easy to follow\n",
    "\n",
    "Do the tests verify correct functionality? On a scale of 0-100, the reviewer should rate the work produced by the reviewee. As the reviewer writes this critique and evaluation into the Jupyter notebook, the reviewer should discuss these questions and any issues that arise with the reviewee. Yes the test run fine and get a score 99. "
   ]
  },
  {
   "cell_type": "code",
   "execution_count": 0,
   "metadata": {
    "collapsed": false
   },
   "outputs": [
   ],
   "source": [
   ]
  }
 ],
 "metadata": {
  "kernelspec": {
   "display_name": "Python 3 (Anaconda 5)",
   "language": "python",
   "name": "anaconda5"
  },
  "language_info": {
   "codemirror_mode": {
    "name": "ipython",
    "version": 3
   },
   "file_extension": ".py",
   "mimetype": "text/x-python",
   "name": "python",
   "nbconvert_exporter": "python",
   "pygments_lexer": "ipython3",
   "version": "3.6.5"
  }
 },
 "nbformat": 4,
 "nbformat_minor": 0
}