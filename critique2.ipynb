{
 "cells": [
  {
   "cell_type": "markdown",
   "metadata": {
    "collapsed": false
   },
   "source": [
    "# Critique\n",
    "#### Review of Monica's sequences code by Enea Dodi"
   ]
  },
  {
   "cell_type": "code",
   "execution_count": 0,
   "metadata": {
    "collapsed": false
   },
   "outputs": [
   ],
   "source": [
    "#!/usr/bin/env python3\n",
    "# -*- coding: utf-8 -*-\n",
    "\n",
    "\n",
    "def fibonacci(n):\n",
    "    \"\"\" returns the sequence of n fibonacci numbers\n",
    "    \"\"\"\n",
    "    firstfib = 1\n",
    "    secondfib = 1\n",
    "    temp = 0\n",
    "    seq = []\n",
    "    for i in range (n):\n",
    "        seq.append(firstfib)\n",
    "        temp = secondfib + firstfib\n",
    "        firstfib = secondfib\n",
    "        secondfib = temp\n",
    "    return seq\n",
    "    \n"
   ]
  },
  {
   "cell_type": "code",
   "execution_count": 1,
   "metadata": {
    "collapsed": false
   },
   "outputs": [
    {
     "ename": "ModuleNotFoundError",
     "evalue": "No module named 'fib'",
     "output_type": "error",
     "traceback": [
      "\u001b[0;31m---------------------------------------------------------------------------\u001b[0m",
      "\u001b[0;31mModuleNotFoundError\u001b[0m                       Traceback (most recent call last)",
      "\u001b[0;32m<ipython-input-1-b2948ec0ae31>\u001b[0m in \u001b[0;36m<module>\u001b[0;34m()\u001b[0m\n\u001b[1;32m      2\u001b[0m \u001b[0;31m# -*- coding: utf-8 -*-\u001b[0m\u001b[0;34m\u001b[0m\u001b[0;34m\u001b[0m\u001b[0m\n\u001b[1;32m      3\u001b[0m \u001b[0;34m\u001b[0m\u001b[0m\n\u001b[0;32m----> 4\u001b[0;31m \u001b[0;32mimport\u001b[0m \u001b[0mfib\u001b[0m\u001b[0;34m\u001b[0m\u001b[0m\n\u001b[0m\u001b[1;32m      5\u001b[0m \u001b[0;32mimport\u001b[0m \u001b[0mio\u001b[0m\u001b[0;34m\u001b[0m\u001b[0m\n\u001b[1;32m      6\u001b[0m \u001b[0;32mimport\u001b[0m \u001b[0mcontextlib\u001b[0m\u001b[0;34m\u001b[0m\u001b[0m\n",
      "\u001b[0;31mModuleNotFoundError\u001b[0m: No module named 'fib'"
     ]
    }
   ],
   "source": [
    "#!/usr/bin/env python3\n",
    "# -*- coding: utf-8 -*-\n",
    "\n",
    "import fib\n",
    "import io\n",
    "import contextlib\n",
    "\n",
    "\"\"\"fib.py Test Module\n",
    "\n",
    "Verify correct functionality of Fibonacci module.\n",
    "\"\"\"\n",
    "\n",
    "def test_fib_eighth():\n",
    "    \"\"\"Test eight Fibonacci number.\n",
    "    \n",
    "    Note that this test highlights the convenience of defining a\n",
    "    main function in a script file. Normally one would call this\n",
    "    script from the command line via bash. Here we call it directly\n",
    "    and redirect the output (stdout) to a string that we can test.\n",
    "    \"\"\"\n",
    "    # First redirect stdout to a string\n",
    "    out = io.StringIO()\n",
    "    with contextlib.redirect_stdout(out):\n",
    "        # then run the script with commandline argument \"6\"\n",
    "        # note that argument 0 is always the program name itself\n",
    "        fib.main([\"./fib.py\", \"6\"])\n",
    "    # then check printed output in string, stripping newline characters\n",
    "    assert out.getvalue().strip() == \"8\"\n"
   ]
  },
  {
   "cell_type": "markdown",
   "metadata": {
    "collapsed": false
   },
   "source": [
    "1. Is it clear how the code is organized?\n",
    "2. Is the code properly documented with both docstrings and supplementary comments according to industry standards? \n",
    "3. Can you follow the algorithm of the code, i.e., what it is doing, and how? Does the code work? (Try cloning the respository and running it yourself to make sure it runs correctly.) \n",
    "4. Do you see any suggestions for how to improve the code? \n",
    "5. Are the test cases in the test module run by the code automatically by Travis?\n",
    "6. Do the tests verify correct functionality? On a scale of 0-100, the reviewer should rate the work produced by the reviewee\n",
    "\n",
    "Answers: \n",
    "1. The fibonacci method in the module by Monica works very well! The code is clearly organized well.\n",
    "2. The module is not properly documetned with both docstrings and cupplemtory comments according to industry standards. It simply states what the return value is, without giving much explanation on how the code is run. However, Monica did summarize very well how the parameter plays a role in her comment. \n",
    "3. The algorithm is precise and easy to follow. The code works.\n",
    "4. The tests work fine too! I would rate her work a solid 96/100\n"
   ]
  },
  {
   "cell_type": "code",
   "execution_count": 0,
   "metadata": {
    "collapsed": false
   },
   "outputs": [
   ],
   "source": [
   ]
  }
 ],
 "metadata": {
  "kernelspec": {
   "display_name": "Python 3 (Anaconda 5)",
   "language": "python",
   "name": "anaconda5"
  }
 },
 "nbformat": 4,
 "nbformat_minor": 0
}