{
 "cells": [
  {
   "cell_type": "markdown",
   "metadata": {
    "collapsed": false
   },
   "source": [
    "# Critique\n",
    "### on Natanael\n",
    "## Monica Hiemer\n"
   ]
  },
  {
   "cell_type": "code",
   "execution_count": 1,
   "metadata": {
    "collapsed": false
   },
   "outputs": [
    {
     "ename": "SyntaxError",
     "evalue": "invalid syntax (<ipython-input-1-51a8e0e68563>, line 1)",
     "output_type": "error",
     "traceback": [
      "\u001b[0;36m  File \u001b[0;32m\"<ipython-input-1-51a8e0e68563>\"\u001b[0;36m, line \u001b[0;32m1\u001b[0m\n\u001b[0;31m    GNU nano 2.9.3                                                           sequences_N.py\u001b[0m\n\u001b[0m           ^\u001b[0m\n\u001b[0;31mSyntaxError\u001b[0m\u001b[0;31m:\u001b[0m invalid syntax\n"
     ]
    }
   ],
   "source": [
    "  GNU nano 2.9.3                                                           sequences_N.py                                                                     \n",
    " \n",
    "#!/usr/bin/env python3\n",
    " #-*- coding: utf-8 -*-\n",
    " \n",
    " \n",
    "def fibonacci(n):\n",
    "    a=0\n",
    "    b=1\n",
    "    for i in range(n):\n",
    "        print (b);\n",
    "        c=a+b\n",
    "        a=b\n",
    "        b=c\n",
    " "
   ]
  },
  {
   "cell_type": "markdown",
   "metadata": {
    "collapsed": false
   },
   "source": [
    "# sequences\n",
    "\n",
    "Is it clear how the code is organized?   Yes the code is organized \n",
    "Is the code properly documented with both docstrings and supplementary comments according to industry standards?  Yes \n",
    "Can you follow the algorithm of the code?  Yes you can follow the code\n",
    "what it is doing, and how? The code prints one thing, which is 1. Then adds a and b. and sets b to c which is still 1. \n",
    "Do you see any suggestions for how to improve the code? maybe add a list, also try returning something. As well using the for loop\n",
    "\n",
    "The code does not do what its supposed to do. 70%\n"
   ]
  },
  {
   "cell_type": "code",
   "execution_count": 2,
   "metadata": {
    "collapsed": false
   },
   "outputs": [
    {
     "ename": "SyntaxError",
     "evalue": "invalid syntax (<ipython-input-2-0a2e7bf20ffb>, line 1)",
     "output_type": "error",
     "traceback": [
      "\u001b[0;36m  File \u001b[0;32m\"<ipython-input-2-0a2e7bf20ffb>\"\u001b[0;36m, line \u001b[0;32m1\u001b[0m\n\u001b[0;31m    GNU nano 2.9.3                                                            runfibs_N.sh\u001b[0m\n\u001b[0m           ^\u001b[0m\n\u001b[0;31mSyntaxError\u001b[0m\u001b[0;31m:\u001b[0m invalid syntax\n"
     ]
    }
   ],
   "source": [
    "  GNU nano 2.9.3                                                            runfibs_N.sh                                                                      \n",
    " \n",
    "#!/usr/bin/bash\n",
    " \n",
    " \n",
    "import testmodule def main(argv):\n",
    "    print(fib1.f(int(argv[1])))\n",
    "    \n",
    "if __name__==\"__main__\":\n",
    "    import sys\n",
    "    main(sys.argv)\n",
    "fi\n"
   ]
  },
  {
   "cell_type": "markdown",
   "metadata": {
    "collapsed": false
   },
   "source": [
    "# runFibs\n",
    "\n",
    "Is it clear how the code is organized?   Yes the code is organized \n",
    "Is the code properly documented with both docstrings and supplementary comments according to industry standards?  Yes \n",
    "Can you follow the algorithm of the code?  Yes you can follow the code\n",
    "what it is doing, and how? it runs the python module sequwnces in the terminal\n",
    "Do you see any suggestions for how to improve the code? NO feedback\n",
    "\n",
    "This does exactly what its suppesed to do 100%\n",
    "\n"
   ]
  },
  {
   "cell_type": "code",
   "execution_count": 2,
   "metadata": {
    "collapsed": false
   },
   "outputs": [
   ],
   "source": [
    "\n",
    "#!/usr/bin/env python3\n",
    "#-*- coding: utf-8 -*-\n",
    " \n",
    "#a = int(input(\"amount:\"))\n",
    "def fib_gen():\n",
    "    \n",
    "    a = 1\n",
    "    b = 1\n",
    "    while True:\n",
    " #   for _ in range(n):\n",
    "        yield b\n",
    "        a , b = b , a + b\n",
    " \n",
    "#print(list(fib_gen(a)))\n",
    " \n",
    " \n",
    "def fib(n):\n",
    "    if n == 0:\n",
    "        return 0\n",
    "    elif n == 1:\n",
    "        return 1\n",
    "    else:\n",
    "        fib4=[]\n",
    "        f = fib_gen()\n",
    "        for i in range(0,n):\n",
    "            fib4.append(next(f))\n",
    "        return fib4\n",
    " \n",
    " "
   ]
  },
  {
   "cell_type": "markdown",
   "metadata": {
    "collapsed": false
   },
   "source": [
    "# fib\n",
    "\n",
    "Is it clear how the code is organized? Yes the code is organized \n",
    "Is the code properly documented with both docstrings and supplementary comments according to industry standards?  Yes \n",
    "Can you follow the algorithm of the code?  Yes you can follow the code\n",
    "what it is doing, and how? This code has a generator that runs on an infinte loop that the def fib() uses to create the fibanacci seq until the number the user imputs.\n",
    "Do you see any suggestions for how to improve the code? NO feedback\n",
    "\n",
    "\n"
   ]
  },
  {
   "cell_type": "code",
   "execution_count": 0,
   "metadata": {
    "collapsed": false
   },
   "outputs": [
   ],
   "source": [
   ]
  }
 ],
 "metadata": {
  "kernelspec": {
   "display_name": "Python 3 (Anaconda 5)",
   "language": "python",
   "name": "anaconda5"
  },
  "language_info": {
   "codemirror_mode": {
    "name": "ipython",
    "version": 3
   },
   "file_extension": ".py",
   "mimetype": "text/x-python",
   "name": "python",
   "nbconvert_exporter": "python",
   "pygments_lexer": "ipython3",
   "version": "3.6.5"
  }
 },
 "nbformat": 4,
 "nbformat_minor": 0
}