{
 "cells": [
  {
   "cell_type": "markdown",
   "metadata": {
    "collapsed": false
   },
   "source": [
    "# Critique\n",
    "### on Natanael\n",
    "## Monica Hiemer\n"
   ]
  },
  {
   "cell_type": "code",
   "execution_count": 1,
   "metadata": {
    "collapsed": false
   },
   "outputs": [
    {
     "ename": "SyntaxError",
     "evalue": "invalid syntax (<ipython-input-1-51a8e0e68563>, line 1)",
     "output_type": "error",
     "traceback": [
      "\u001b[0;36m  File \u001b[0;32m\"<ipython-input-1-51a8e0e68563>\"\u001b[0;36m, line \u001b[0;32m1\u001b[0m\n\u001b[0;31m    GNU nano 2.9.3                                                           sequences_N.py\u001b[0m\n\u001b[0m           ^\u001b[0m\n\u001b[0;31mSyntaxError\u001b[0m\u001b[0;31m:\u001b[0m invalid syntax\n"
     ]
    }
   ],
   "source": [
    "  GNU nano 2.9.3                                                           sequences_N.py                                                                     \n",
    " \n",
    "#!/usr/bin/env python3\n",
    " #-*- coding: utf-8 -*-\n",
    " \n",
    " \n",
    "def fibonacci(n):\n",
    "    a=0\n",
    "    b=1\n",
    "    for i in range(n):\n",
    "        print (b);\n",
    "        c=a+b\n",
    "        a=b\n",
    "        b=c\n",
    " "
   ]
  },
  {
   "cell_type": "markdown",
   "metadata": {
    "collapsed": false
   },
   "source": [
    "# sequences\n",
    "\n",
    "Is it clear how the code is organized?   Yes the code is organized \n",
    "Is the code properly documented with both docstrings and supplementary comments according to industry standards?  Yes \n",
    "Can you follow the algorithm of the code?  Yes you can follow the code\n",
    "what it is doing, and how? The code prints one thing, which is 1. Then adds a and b. and sets b to c which is still 1. \n",
    "Do you see any suggestions for how to improve the code? maybe add a list, also try returning something. As well using the for loop\n",
    "\n",
    "The code does not do what its supposed to do. 70%\n"
   ]
  },
  {
   "cell_type": "code",
   "execution_count": 2,
   "metadata": {
    "collapsed": false
   },
   "outputs": [
    {
     "ename": "SyntaxError",
     "evalue": "invalid syntax (<ipython-input-2-0a2e7bf20ffb>, line 1)",
     "output_type": "error",
     "traceback": [
      "\u001b[0;36m  File \u001b[0;32m\"<ipython-input-2-0a2e7bf20ffb>\"\u001b[0;36m, line \u001b[0;32m1\u001b[0m\n\u001b[0;31m    GNU nano 2.9.3                                                            runfibs_N.sh\u001b[0m\n\u001b[0m           ^\u001b[0m\n\u001b[0;31mSyntaxError\u001b[0m\u001b[0;31m:\u001b[0m invalid syntax\n"
     ]
    }
   ],
   "source": [
    "  GNU nano 2.9.3                                                            runfibs_N.sh                                                                      \n",
    " \n",
    "#!/usr/bin/bash\n",
    " \n",
    " \n",
    "import testmodule def main(argv):\n",
    "    print(fib1.f(int(argv[1])))\n",
    "    \n",
    "if __name__==\"__main__\":\n",
    "    import sys\n",
    "    main(sys.argv)\n",
    "fi\n"
   ]
  },
  {
   "cell_type": "markdown",
   "metadata": {
    "collapsed": false
   },
   "source": [
    "# runFibs\n",
    "\n",
    "Is it clear how the code is organized?   Yes the code is organized \n",
    "Is the code properly documented with both docstrings and supplementary comments according to industry standards?  Yes \n",
    "Can you follow the algorithm of the code?  Yes you can follow the code\n",
    "what it is doing, and how? it runs the python module sequwnces in the terminal\n",
    "Do you see any suggestions for how to improve the code? NO feedback\n",
    "\n",
    "This does exactly what its suppesed to do 100%\n",
    "\n"
   ]
  },
  {
   "cell_type": "code",
   "execution_count": 2,
   "metadata": {
    "collapsed": false
   },
   "outputs": [
   ],
   "source": [
    "\n",
    "#!/usr/bin/env python3\n",
    "#-*- coding: utf-8 -*-\n",
    " \n",
    "#a = int(input(\"amount:\"))\n",
    "def fib_gen():\n",
    "    \n",
    "    a = 1\n",
    "    b = 1\n",
    "    while True:\n",
    " #   for _ in range(n):\n",
    "        yield b\n",
    "        a , b = b , a + b\n",
    " \n",
    "#print(list(fib_gen(a)))\n",
    " \n",
    " \n",
    "def fib(n):\n",
    "    if n == 0:\n",
    "        return 0\n",
    "    elif n == 1:\n",
    "        return 1\n",
    "    else:\n",
    "        fib4=[]\n",
    "        f = fib_gen()\n",
    "        for i in range(0,n):\n",
    "            fib4.append(next(f))\n",
    "        return fib4\n",
    " \n",
    " "
   ]
  },
  {
   "cell_type": "markdown",
   "metadata": {
    "collapsed": false
   },
   "source": [
    "# fib\n",
    "\n",
    "Is it clear how the code is organized? Yes the code is organized \n",
    "Is the code properly documented with both docstrings and supplementary comments according to industry standards?  Yes \n",
    "Can you follow the algorithm of the code?  Yes you can follow the code\n",
    "what it is doing, and how? This code has a generator that runs on an infinte loop that the def fib() uses to create the fibanacci seq until the number the user imputs.\n",
    "Do you see any suggestions for how to improve the code? NO feedback\n",
    "\n",
    "\n"
   ]
  },
  {
   "cell_type": "markdown",
   "metadata": {
    "collapsed": false
   },
   "source": [
    "# Critique\n",
    "#### Review of Monica's sequences code by Enea Dodi"
   ]
  },
  {
   "cell_type": "code",
   "execution_count": 0,
   "metadata": {
    "collapsed": false
   },
   "outputs": [
   ],
   "source": [
    "#!/usr/bin/env python3\n",
    "# -*- coding: utf-8 -*-\n",
    "\n",
    "\n",
    "def fibonacci(n):\n",
    "    \"\"\" returns the sequence of n fibonacci numbers\n",
    "    \"\"\"\n",
    "    firstfib = 1\n",
    "    secondfib = 1\n",
    "    temp = 0\n",
    "    seq = []\n",
    "    for i in range (n):\n",
    "        seq.append(firstfib)\n",
    "        temp = secondfib + firstfib\n",
    "        firstfib = secondfib\n",
    "        secondfib = temp\n",
    "    return seq\n",
    "    \n"
   ]
  },
  {
   "cell_type": "code",
   "execution_count": 0,
   "metadata": {
    "collapsed": false
   },
   "outputs": [
   ],
   "source": [
    "#!/usr/bin/env python3\n",
    "# -*- coding: utf-8 -*-\n",
    "\n",
    "import fib\n",
    "import io\n",
    "import contextlib\n",
    "\n",
    "\"\"\"fib.py Test Module\n",
    "\n",
    "Verify correct functionality of Fibonacci module.\n",
    "\"\"\"\n",
    "\n",
    "def test_fib_eighth():\n",
    "    \"\"\"Test eight Fibonacci number.\n",
    "    \n",
    "    Note that this test highlights the convenience of defining a\n",
    "    main function in a script file. Normally one would call this\n",
    "    script from the command line via bash. Here we call it directly\n",
    "    and redirect the output (stdout) to a string that we can test.\n",
    "    \"\"\"\n",
    "    # First redirect stdout to a string\n",
    "    out = io.StringIO()\n",
    "    with contextlib.redirect_stdout(out):\n",
    "        # then run the script with commandline argument \"6\"\n",
    "        # note that argument 0 is always the program name itself\n",
    "        fib.main([\"./fib.py\", \"6\"])\n",
    "    # then check printed output in string, stripping newline characters\n",
    "    assert out.getvalue().strip() == \"8\""
   ]
  },
  {
   "cell_type": "markdown",
   "metadata": {
    "collapsed": false
   },
   "source": [
    "1. Is it clear how the code is organized?\n",
    "2. Is the code properly documented with both docstrings and supplementary comments according to industry standards? \n",
    "3. Can you follow the algorithm of the code, i.e., what it is doing, and how? Does the code work? (Try cloning the respository and running it yourself to make sure it runs correctly.) \n",
    "4. Do you see any suggestions for how to improve the code? \n",
    "5. Are the test cases in the test module run by the code automatically by Travis?\n",
    "6. Do the tests verify correct functionality? On a scale of 0-100, the reviewer should rate the work produced by the reviewee\n",
    "\n",
    "Answers: \n",
    "1. The fibonacci method in the module by Monica works very well! The code is clearly organized well.\n",
    "2. The module is not properly documetned with both docstrings and cupplemtory comments according to industry standards. It simply states what the return value is, without giving much explanation on how the code is run. However, Monica did summarize very well how the parameter plays a role in her comment. \n",
    "3. The algorithm is precise and easy to follow. The code works.\n",
    "4. The tests work fine too! I would rate her work a solid 96/100\n"
   ]
  },
  {
   "cell_type": "markdown",
   "metadata": {
    "collapsed": false
   },
   "source": [
    "# Enea's code"
   ]
  },
  {
   "cell_type": "code",
   "execution_count": 0,
   "metadata": {
    "collapsed": false
   },
   "outputs": [
   ],
   "source": [
    "#!/usr/bin/env python3\n",
    "# -*- coding: utf-8 -*-\n",
    "\n",
    "import fib\n",
    "import io\n",
    "import contextlib\n",
    "\n",
    "\"\"\"fib.py Test Module\n",
    "\n",
    "Verify correct functionality of Fibonacci module.\n",
    "\"\"\"\n",
    "\n",
    "def test_fib_eighth():\n",
    "    \"\"\"Test eight Fibonacci number.\n",
    "\n",
    "    Note that this test highlights the convenience of defining a\n",
    "    main function in a script file. Normally one would call this\n",
    "    script from the command line via bash. Here we call it directly\n",
    "    and redirect the output (stdout) to a string that we can test.\n",
    "    \"\"\"\n",
    "    # First redirect stdout to a string\n",
    "    out = io.StringIO()\n",
    "    with contextlib.redirect_stdout(out):\n",
    "        # then run the script with commandline argument \"6\"\n",
    "        # note that argument 0 is always the program name itself\n",
    "        fib.main([\"./fib.py\", \"6\"])\n",
    "    # then check printed output in string, stripping newline characters\n",
    "    assert out.getvalue().strip() == \"8\""
   ]
  },
  {
   "cell_type": "code",
   "execution_count": 0,
   "metadata": {
    "collapsed": false
   },
   "outputs": [
   ],
   "source": [
    "#!/usr/bin/env python3\n",
    "# -*- coding: utf-8 -*-\n",
    "###\n",
    "# Name: Enea Dodi Student ID: 2296306 Email: dodi@chapman.edu Course:\n",
    "# PHYS220/MATH220/CPSC220 Fall 2018 Assignment: CW03\n",
    "###\n",
    "\n",
    "\"\"\"This module reads the input of a number and returns an array of the first n\n",
    "Fibonacci numbers in a list \"\"\"\n",
    "\n",
    "# return a list containing the fibonacci series up to n.\n",
    "def fibonacci(n):\n",
    "    '''Fibonacci function\n",
    "    Args:\n",
    "        n: number of fibonacci numbers to calculate\n",
    "    Returns:\n",
    "        List containing first n fibonacci numbers\n",
    "    Raises:\n",
    "        Custom Exception 'Exception':\n",
    "            Thrown if n < 1\n",
    "            Instructs user to enter value larger than 0\n",
    "        TypeError:\n",
    "            Thrown by non-integer value of n\n",
    "    '''\n",
    "    if n < 1:\n",
    "        raise Exception('Please enter a value larger than 0')\n",
    "    f = fib_gen()\n",
    "    result = [next(f) for _ in range(n)]\n",
    "    return result\n",
    "\n",
    "def fib_gen():\n",
    "    x = 0\n",
    "    y = 1\n",
    "    z = 1\n",
    "    while True:"
   ]
  },
  {
   "cell_type": "markdown",
   "metadata": {
    "collapsed": false
   },
   "source": [
    "is it clear how the code is organized? Yes, the code is very orenized and the flow is easy to follow. the variables are well defined in the code to note make mess later. \n",
    "\n",
    "Is the code properly documented with both docstrings and supplementary comments according to industry standards? Yes\n",
    "\n",
    "Can you follow the algorithm of the code, i.e., what it is doing, and how? Does the code work? (Try cloning the respository and running it yourself to make sure it runs correctly.) Yes the code is very cleare and easy to follow, the code runs fine.\n",
    "\n",
    "Do the tests verify correct functionality? On a scale of 0-100, the reviewer should rate the work produced by the reviewee. As the reviewer writes this critique and evaluation into the Jupyter notebook, the reviewer should discuss these questions and any issues that arise with the reviewee. Yes the test run fine and get a score 98. "
   ]
  }
 ],
 "metadata": {
  "kernelspec": {
   "display_name": "Python 3 (Anaconda 5)",
   "language": "python",
   "name": "anaconda5"
  },
  "language_info": {
   "codemirror_mode": {
    "name": "ipython",
    "version": 3
   },
   "file_extension": ".py",
   "mimetype": "text/x-python",
   "name": "python",
   "nbconvert_exporter": "python",
   "pygments_lexer": "ipython3",
   "version": "3.6.5"
  }
 },
 "nbformat": 4,
 "nbformat_minor": 0
}